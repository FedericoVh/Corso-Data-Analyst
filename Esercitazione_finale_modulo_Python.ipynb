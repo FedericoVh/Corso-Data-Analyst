{
 "cells": [
  {
   "cell_type": "markdown",
   "id": "0a82bec3-882e-4f1b-bf0f-736ce360c31f",
   "metadata": {},
   "source": [
    "# Esercitazione Finale Python\n",
    "## Analisi diffusione COVID-19 nel mondo\n",
    "Il committente richiede di avere un report su casi e vaccinazioni in diverse aree del mondo; a tal fine, richiede di utilizzare il dataset, curato da Our World in Data, all'indirizzo https://github.com/owid/covid-19-data/tree/master/public/data;\n",
    "alla voce \"🗂 Download our complete COVID-19 dataset\" scaricare il dataset in formato CSV oppure in formato JSON.\n",
    "\n",
    "* Si richiede di verificare le dimensioni del dataset e le diciture presenti nell'intestazione\n",
    "\n",
    "* Si chiede poi per ogni continente di trovare il numero di casi totali avvenuti in quello stesso continente; si chiede di non considerare eventuali locazioni che nel dataset non appartengono ad alcun continente.\n",
    "\n",
    "* Sempre riguardo i casi di COVID totali, si chiede di sviluppare una funzione che prenda in input il dataset e due nomi di continenti, e che ne confronti i seguenti relativi descrittori statistici: valori minimo e massimo, media, e percentuale rispetto al numero dei casi totali nel mondo (in questo caso calcolati anche sulle locazioni senza indicazione di continente).\n",
    "\n",
    "* Si chiede poi di effettuare lo stesso tipo di analisi – anche in questo caso sviluppando una funzione ad hoc – per il numero di vaccinazioni totali per ogni continente.\n",
    "\n",
    "* Alla fine, basandosi sui calcoli fatti, il committente chiede di stilare un breve (tre o quattro righe) paragrafo testuale riassuntivo sulle statistiche di casi e vaccinazioni, che si concentri solo sulle differenze esistenti tra Europa, Sud America e Oceania.\n",
    "\n",
    "Per effettuare le analisi si potranno usare, a scelta, strumenti come funzioni e strutture dati built-in quali open(), liste, dizionari; moduli built-in quali csv o json; moduli esterni quali Pandas e i relativi metodi e tipi di dato."
   ]
  },
  {
   "cell_type": "markdown",
   "id": "6620b5da-980a-4ad4-8c0d-4aeed8225783",
   "metadata": {},
   "source": [
    "## Punto 1:\n",
    "Per prima cosa importo la libreria di Pandas e il dataset da utilizzare."
   ]
  },
  {
   "cell_type": "code",
   "execution_count": 1,
   "id": "0bc6ece3-d189-48b5-8a7f-0d7b3b117461",
   "metadata": {},
   "outputs": [],
   "source": [
    "import pandas as pd\n",
    "\n",
    "df = pd.read_csv(r\"https://covid.ourworldindata.org/data/owid-covid-data.csv\", low_memory=False)"
   ]
  },
  {
   "cell_type": "markdown",
   "id": "ccc30b15-d1b8-46d9-a880-938df76b7412",
   "metadata": {},
   "source": [
    "Successivamente verifico le dimensioni del file, le diciture presenti nell'intestazione e le prime 5 righe del dataset. "
   ]
  },
  {
   "cell_type": "code",
   "execution_count": 2,
   "id": "22bb72a5-1108-4167-b5a3-fd73308d0683",
   "metadata": {},
   "outputs": [
    {
     "data": {
      "text/plain": [
       "(313070, 67)"
      ]
     },
     "execution_count": 2,
     "metadata": {},
     "output_type": "execute_result"
    }
   ],
   "source": [
    "df.shape"
   ]
  },
  {
   "cell_type": "code",
   "execution_count": 3,
   "id": "3fc90570-5339-40c7-aacd-7ff4d1c90762",
   "metadata": {},
   "outputs": [
    {
     "name": "stdout",
     "output_type": "stream",
     "text": [
      "['iso_code', 'continent', 'location', 'date', 'total_cases', 'new_cases', 'new_cases_smoothed', 'total_deaths', 'new_deaths', 'new_deaths_smoothed', 'total_cases_per_million', 'new_cases_per_million', 'new_cases_smoothed_per_million', 'total_deaths_per_million', 'new_deaths_per_million', 'new_deaths_smoothed_per_million', 'reproduction_rate', 'icu_patients', 'icu_patients_per_million', 'hosp_patients', 'hosp_patients_per_million', 'weekly_icu_admissions', 'weekly_icu_admissions_per_million', 'weekly_hosp_admissions', 'weekly_hosp_admissions_per_million', 'total_tests', 'new_tests', 'total_tests_per_thousand', 'new_tests_per_thousand', 'new_tests_smoothed', 'new_tests_smoothed_per_thousand', 'positive_rate', 'tests_per_case', 'tests_units', 'total_vaccinations', 'people_vaccinated', 'people_fully_vaccinated', 'total_boosters', 'new_vaccinations', 'new_vaccinations_smoothed', 'total_vaccinations_per_hundred', 'people_vaccinated_per_hundred', 'people_fully_vaccinated_per_hundred', 'total_boosters_per_hundred', 'new_vaccinations_smoothed_per_million', 'new_people_vaccinated_smoothed', 'new_people_vaccinated_smoothed_per_hundred', 'stringency_index', 'population_density', 'median_age', 'aged_65_older', 'aged_70_older', 'gdp_per_capita', 'extreme_poverty', 'cardiovasc_death_rate', 'diabetes_prevalence', 'female_smokers', 'male_smokers', 'handwashing_facilities', 'hospital_beds_per_thousand', 'life_expectancy', 'human_development_index', 'population', 'excess_mortality_cumulative_absolute', 'excess_mortality_cumulative', 'excess_mortality', 'excess_mortality_cumulative_per_million']\n"
     ]
    }
   ],
   "source": [
    "intestazione = list(df.columns)\n",
    "print(intestazione)"
   ]
  },
  {
   "cell_type": "code",
   "execution_count": 4,
   "id": "f61e36d3-1ee8-4522-b539-9e72a47ea7ff",
   "metadata": {},
   "outputs": [
    {
     "data": {
      "text/html": [
       "<div>\n",
       "<style scoped>\n",
       "    .dataframe tbody tr th:only-of-type {\n",
       "        vertical-align: middle;\n",
       "    }\n",
       "\n",
       "    .dataframe tbody tr th {\n",
       "        vertical-align: top;\n",
       "    }\n",
       "\n",
       "    .dataframe thead th {\n",
       "        text-align: right;\n",
       "    }\n",
       "</style>\n",
       "<table border=\"1\" class=\"dataframe\">\n",
       "  <thead>\n",
       "    <tr style=\"text-align: right;\">\n",
       "      <th></th>\n",
       "      <th>iso_code</th>\n",
       "      <th>continent</th>\n",
       "      <th>location</th>\n",
       "      <th>date</th>\n",
       "      <th>total_cases</th>\n",
       "      <th>new_cases</th>\n",
       "      <th>new_cases_smoothed</th>\n",
       "      <th>total_deaths</th>\n",
       "      <th>new_deaths</th>\n",
       "      <th>new_deaths_smoothed</th>\n",
       "      <th>...</th>\n",
       "      <th>male_smokers</th>\n",
       "      <th>handwashing_facilities</th>\n",
       "      <th>hospital_beds_per_thousand</th>\n",
       "      <th>life_expectancy</th>\n",
       "      <th>human_development_index</th>\n",
       "      <th>population</th>\n",
       "      <th>excess_mortality_cumulative_absolute</th>\n",
       "      <th>excess_mortality_cumulative</th>\n",
       "      <th>excess_mortality</th>\n",
       "      <th>excess_mortality_cumulative_per_million</th>\n",
       "    </tr>\n",
       "  </thead>\n",
       "  <tbody>\n",
       "    <tr>\n",
       "      <th>0</th>\n",
       "      <td>AFG</td>\n",
       "      <td>Asia</td>\n",
       "      <td>Afghanistan</td>\n",
       "      <td>2020-01-03</td>\n",
       "      <td>NaN</td>\n",
       "      <td>0.0</td>\n",
       "      <td>NaN</td>\n",
       "      <td>NaN</td>\n",
       "      <td>0.0</td>\n",
       "      <td>NaN</td>\n",
       "      <td>...</td>\n",
       "      <td>NaN</td>\n",
       "      <td>37.746</td>\n",
       "      <td>0.5</td>\n",
       "      <td>64.83</td>\n",
       "      <td>0.511</td>\n",
       "      <td>41128772.0</td>\n",
       "      <td>NaN</td>\n",
       "      <td>NaN</td>\n",
       "      <td>NaN</td>\n",
       "      <td>NaN</td>\n",
       "    </tr>\n",
       "    <tr>\n",
       "      <th>1</th>\n",
       "      <td>AFG</td>\n",
       "      <td>Asia</td>\n",
       "      <td>Afghanistan</td>\n",
       "      <td>2020-01-04</td>\n",
       "      <td>NaN</td>\n",
       "      <td>0.0</td>\n",
       "      <td>NaN</td>\n",
       "      <td>NaN</td>\n",
       "      <td>0.0</td>\n",
       "      <td>NaN</td>\n",
       "      <td>...</td>\n",
       "      <td>NaN</td>\n",
       "      <td>37.746</td>\n",
       "      <td>0.5</td>\n",
       "      <td>64.83</td>\n",
       "      <td>0.511</td>\n",
       "      <td>41128772.0</td>\n",
       "      <td>NaN</td>\n",
       "      <td>NaN</td>\n",
       "      <td>NaN</td>\n",
       "      <td>NaN</td>\n",
       "    </tr>\n",
       "    <tr>\n",
       "      <th>2</th>\n",
       "      <td>AFG</td>\n",
       "      <td>Asia</td>\n",
       "      <td>Afghanistan</td>\n",
       "      <td>2020-01-05</td>\n",
       "      <td>NaN</td>\n",
       "      <td>0.0</td>\n",
       "      <td>NaN</td>\n",
       "      <td>NaN</td>\n",
       "      <td>0.0</td>\n",
       "      <td>NaN</td>\n",
       "      <td>...</td>\n",
       "      <td>NaN</td>\n",
       "      <td>37.746</td>\n",
       "      <td>0.5</td>\n",
       "      <td>64.83</td>\n",
       "      <td>0.511</td>\n",
       "      <td>41128772.0</td>\n",
       "      <td>NaN</td>\n",
       "      <td>NaN</td>\n",
       "      <td>NaN</td>\n",
       "      <td>NaN</td>\n",
       "    </tr>\n",
       "    <tr>\n",
       "      <th>3</th>\n",
       "      <td>AFG</td>\n",
       "      <td>Asia</td>\n",
       "      <td>Afghanistan</td>\n",
       "      <td>2020-01-06</td>\n",
       "      <td>NaN</td>\n",
       "      <td>0.0</td>\n",
       "      <td>NaN</td>\n",
       "      <td>NaN</td>\n",
       "      <td>0.0</td>\n",
       "      <td>NaN</td>\n",
       "      <td>...</td>\n",
       "      <td>NaN</td>\n",
       "      <td>37.746</td>\n",
       "      <td>0.5</td>\n",
       "      <td>64.83</td>\n",
       "      <td>0.511</td>\n",
       "      <td>41128772.0</td>\n",
       "      <td>NaN</td>\n",
       "      <td>NaN</td>\n",
       "      <td>NaN</td>\n",
       "      <td>NaN</td>\n",
       "    </tr>\n",
       "    <tr>\n",
       "      <th>4</th>\n",
       "      <td>AFG</td>\n",
       "      <td>Asia</td>\n",
       "      <td>Afghanistan</td>\n",
       "      <td>2020-01-07</td>\n",
       "      <td>NaN</td>\n",
       "      <td>0.0</td>\n",
       "      <td>NaN</td>\n",
       "      <td>NaN</td>\n",
       "      <td>0.0</td>\n",
       "      <td>NaN</td>\n",
       "      <td>...</td>\n",
       "      <td>NaN</td>\n",
       "      <td>37.746</td>\n",
       "      <td>0.5</td>\n",
       "      <td>64.83</td>\n",
       "      <td>0.511</td>\n",
       "      <td>41128772.0</td>\n",
       "      <td>NaN</td>\n",
       "      <td>NaN</td>\n",
       "      <td>NaN</td>\n",
       "      <td>NaN</td>\n",
       "    </tr>\n",
       "  </tbody>\n",
       "</table>\n",
       "<p>5 rows × 67 columns</p>\n",
       "</div>"
      ],
      "text/plain": [
       "  iso_code continent     location        date  total_cases  new_cases  \\\n",
       "0      AFG      Asia  Afghanistan  2020-01-03          NaN        0.0   \n",
       "1      AFG      Asia  Afghanistan  2020-01-04          NaN        0.0   \n",
       "2      AFG      Asia  Afghanistan  2020-01-05          NaN        0.0   \n",
       "3      AFG      Asia  Afghanistan  2020-01-06          NaN        0.0   \n",
       "4      AFG      Asia  Afghanistan  2020-01-07          NaN        0.0   \n",
       "\n",
       "   new_cases_smoothed  total_deaths  new_deaths  new_deaths_smoothed  ...  \\\n",
       "0                 NaN           NaN         0.0                  NaN  ...   \n",
       "1                 NaN           NaN         0.0                  NaN  ...   \n",
       "2                 NaN           NaN         0.0                  NaN  ...   \n",
       "3                 NaN           NaN         0.0                  NaN  ...   \n",
       "4                 NaN           NaN         0.0                  NaN  ...   \n",
       "\n",
       "   male_smokers  handwashing_facilities  hospital_beds_per_thousand  \\\n",
       "0           NaN                  37.746                         0.5   \n",
       "1           NaN                  37.746                         0.5   \n",
       "2           NaN                  37.746                         0.5   \n",
       "3           NaN                  37.746                         0.5   \n",
       "4           NaN                  37.746                         0.5   \n",
       "\n",
       "   life_expectancy  human_development_index  population  \\\n",
       "0            64.83                    0.511  41128772.0   \n",
       "1            64.83                    0.511  41128772.0   \n",
       "2            64.83                    0.511  41128772.0   \n",
       "3            64.83                    0.511  41128772.0   \n",
       "4            64.83                    0.511  41128772.0   \n",
       "\n",
       "   excess_mortality_cumulative_absolute  excess_mortality_cumulative  \\\n",
       "0                                   NaN                          NaN   \n",
       "1                                   NaN                          NaN   \n",
       "2                                   NaN                          NaN   \n",
       "3                                   NaN                          NaN   \n",
       "4                                   NaN                          NaN   \n",
       "\n",
       "   excess_mortality  excess_mortality_cumulative_per_million  \n",
       "0               NaN                                      NaN  \n",
       "1               NaN                                      NaN  \n",
       "2               NaN                                      NaN  \n",
       "3               NaN                                      NaN  \n",
       "4               NaN                                      NaN  \n",
       "\n",
       "[5 rows x 67 columns]"
      ]
     },
     "execution_count": 4,
     "metadata": {},
     "output_type": "execute_result"
    }
   ],
   "source": [
    "df.head()"
   ]
  },
  {
   "cell_type": "code",
   "execution_count": 5,
   "id": "e72dee48-41d4-4c9f-82de-9ea45c6f06b8",
   "metadata": {},
   "outputs": [
    {
     "name": "stdout",
     "output_type": "stream",
     "text": [
      "<class 'pandas.core.frame.DataFrame'>\n",
      "RangeIndex: 313070 entries, 0 to 313069\n",
      "Data columns (total 67 columns):\n",
      " #   Column                                      Non-Null Count   Dtype  \n",
      "---  ------                                      --------------   -----  \n",
      " 0   iso_code                                    313070 non-null  object \n",
      " 1   continent                                   298214 non-null  object \n",
      " 2   location                                    313070 non-null  object \n",
      " 3   date                                        313070 non-null  object \n",
      " 4   total_cases                                 277045 non-null  float64\n",
      " 5   new_cases                                   304385 non-null  float64\n",
      " 6   new_cases_smoothed                          303121 non-null  float64\n",
      " 7   total_deaths                                256295 non-null  float64\n",
      " 8   new_deaths                                  304452 non-null  float64\n",
      " 9   new_deaths_smoothed                         303222 non-null  float64\n",
      " 10  total_cases_per_million                     277045 non-null  float64\n",
      " 11  new_cases_per_million                       304385 non-null  float64\n",
      " 12  new_cases_smoothed_per_million              303121 non-null  float64\n",
      " 13  total_deaths_per_million                    256295 non-null  float64\n",
      " 14  new_deaths_per_million                      304452 non-null  float64\n",
      " 15  new_deaths_smoothed_per_million             303222 non-null  float64\n",
      " 16  reproduction_rate                           184817 non-null  float64\n",
      " 17  icu_patients                                36103 non-null   float64\n",
      " 18  icu_patients_per_million                    36103 non-null   float64\n",
      " 19  hosp_patients                               36880 non-null   float64\n",
      " 20  hosp_patients_per_million                   36880 non-null   float64\n",
      " 21  weekly_icu_admissions                       9484 non-null    float64\n",
      " 22  weekly_icu_admissions_per_million           9484 non-null    float64\n",
      " 23  weekly_hosp_admissions                      21913 non-null   float64\n",
      " 24  weekly_hosp_admissions_per_million          21913 non-null   float64\n",
      " 25  total_tests                                 79387 non-null   float64\n",
      " 26  new_tests                                   75403 non-null   float64\n",
      " 27  total_tests_per_thousand                    79387 non-null   float64\n",
      " 28  new_tests_per_thousand                      75403 non-null   float64\n",
      " 29  new_tests_smoothed                          103965 non-null  float64\n",
      " 30  new_tests_smoothed_per_thousand             103965 non-null  float64\n",
      " 31  positive_rate                               95927 non-null   float64\n",
      " 32  tests_per_case                              94348 non-null   float64\n",
      " 33  tests_units                                 106788 non-null  object \n",
      " 34  total_vaccinations                          75150 non-null   float64\n",
      " 35  people_vaccinated                           71979 non-null   float64\n",
      " 36  people_fully_vaccinated                     68501 non-null   float64\n",
      " 37  total_boosters                              43764 non-null   float64\n",
      " 38  new_vaccinations                            61836 non-null   float64\n",
      " 39  new_vaccinations_smoothed                   168651 non-null  float64\n",
      " 40  total_vaccinations_per_hundred              75150 non-null   float64\n",
      " 41  people_vaccinated_per_hundred               71979 non-null   float64\n",
      " 42  people_fully_vaccinated_per_hundred         68501 non-null   float64\n",
      " 43  total_boosters_per_hundred                  43764 non-null   float64\n",
      " 44  new_vaccinations_smoothed_per_million       168651 non-null  float64\n",
      " 45  new_people_vaccinated_smoothed              168512 non-null  float64\n",
      " 46  new_people_vaccinated_smoothed_per_hundred  168512 non-null  float64\n",
      " 47  stringency_index                            197651 non-null  float64\n",
      " 48  population_density                          265699 non-null  float64\n",
      " 49  median_age                                  247090 non-null  float64\n",
      " 50  aged_65_older                               238463 non-null  float64\n",
      " 51  aged_70_older                               244614 non-null  float64\n",
      " 52  gdp_per_capita                              242177 non-null  float64\n",
      " 53  extreme_poverty                             155992 non-null  float64\n",
      " 54  cardiovasc_death_rate                       242612 non-null  float64\n",
      " 55  diabetes_prevalence                         255000 non-null  float64\n",
      " 56  female_smokers                              181990 non-null  float64\n",
      " 57  male_smokers                                179514 non-null  float64\n",
      " 58  handwashing_facilities                      118850 non-null  float64\n",
      " 59  hospital_beds_per_thousand                  214178 non-null  float64\n",
      " 60  life_expectancy                             287944 non-null  float64\n",
      " 61  human_development_index                     235192 non-null  float64\n",
      " 62  population                                  313070 non-null  float64\n",
      " 63  excess_mortality_cumulative_absolute        10669 non-null   float64\n",
      " 64  excess_mortality_cumulative                 10669 non-null   float64\n",
      " 65  excess_mortality                            10669 non-null   float64\n",
      " 66  excess_mortality_cumulative_per_million     10669 non-null   float64\n",
      "dtypes: float64(62), object(5)\n",
      "memory usage: 160.0+ MB\n"
     ]
    }
   ],
   "source": [
    "df.info()"
   ]
  },
  {
   "cell_type": "markdown",
   "id": "72ecd495-7f4a-46f1-91f4-9400c62229ac",
   "metadata": {},
   "source": [
    "## Punto 2:\n",
    "Calcolo ora il numero di casi totali avvenuti in quello stesso continente:"
   ]
  },
  {
   "cell_type": "code",
   "execution_count": 6,
   "id": "ea0a8ed6-faaa-4ebe-9e2a-ba0223522e7e",
   "metadata": {},
   "outputs": [
    {
     "name": "stdout",
     "output_type": "stream",
     "text": [
      "continent\n",
      "Africa            13089145.0\n",
      "Asia             297460760.0\n",
      "Europe           249444178.0\n",
      "North America    124187478.0\n",
      "Oceania           14123192.0\n",
      "South America     68612891.0\n",
      "Name: new_cases, dtype: float64\n"
     ]
    }
   ],
   "source": [
    "df = df.dropna(subset=[\"continent\"])\n",
    "\n",
    "\"\"\" Verrà utilizzato questo df anche per i punti 3 e 4.\"\"\"\n",
    "\n",
    "somma_continente = df.groupby(\"continent\")[\"new_cases\"].sum()\n",
    "casi_globali = df['new_cases'].sum()\n",
    "\n",
    "print(somma_continente)"
   ]
  },
  {
   "cell_type": "markdown",
   "id": "94fe6e43-01b2-4496-9d53-6bb0a85c8ae2",
   "metadata": {},
   "source": [
    "## Punto 3:\n",
    "Sviluppo di una funzione per calcolare le metriche di minimo, massimo e media di due continenti e confronto tra casi totali per continente e totale mondiale. Nel print ho utilizzato il \"df\" con il \"dropna\" perchè prendendo in considerazione i \"Nan\" i dati non mi sembravano veritieri. "
   ]
  },
  {
   "cell_type": "code",
   "execution_count": 45,
   "id": "e7b0c386-cd8d-4362-a76a-092ff47ae75f",
   "metadata": {},
   "outputs": [],
   "source": [
    "def confronta_descrittori_casi(dataset, continente1, continente2):\n",
    "    df_continente1 = dataset[dataset['continent'] == continente1]\n",
    "    df_continente2 = dataset[dataset['continent'] == continente2]\n",
    "\n",
    "    descrittori_continente1 = df_continente1['new_cases'].agg(['min', 'max', 'mean'])\n",
    "    descrittori_continente2 = df_continente2['new_cases'].agg(['min', 'max', 'mean'])\n",
    "\n",
    "    totale_mondiale = dataset['new_cases'].sum()\n",
    "    percentuale_continente1 = (df_continente1['new_cases'].sum() / totale_mondiale) * 100\n",
    "    percentuale_continente2 = (df_continente2['new_cases'].sum() / totale_mondiale) * 100\n",
    "\n",
    "    risultati_casi = pd.DataFrame({\n",
    "        'Continente': [continente1, continente2],\n",
    "        'Minimo': [descrittori_continente1['min'], descrittori_continente2['min']],\n",
    "        'Massimo': [descrittori_continente1['max'], descrittori_continente2['max']],\n",
    "        'Media': [descrittori_continente1['mean'], descrittori_continente2['mean']],\n",
    "        'Percentuale rispetto al totale mondiale': [percentuale_continente1, percentuale_continente2]\n",
    "    })\n",
    "\n",
    "    return risultati_casi"
   ]
  },
  {
   "cell_type": "code",
   "execution_count": 46,
   "id": "7b054568-9c96-4493-833c-909369a2052a",
   "metadata": {},
   "outputs": [
    {
     "name": "stdout",
     "output_type": "stream",
     "text": [
      "  Continente  Minimo    Massimo        Media  \\\n",
      "0     Europe     0.0   500563.0  3953.657801   \n",
      "1       Asia     0.0  6966046.0  5117.076259   \n",
      "\n",
      "   Percentuale rispetto al totale mondiale  \n",
      "0                                32.525550  \n",
      "1                                38.786532  \n"
     ]
    }
   ],
   "source": [
    "x = confronta_descrittori_casi(df, \"Europe\", \"Asia\")\n",
    "print(x)"
   ]
  },
  {
   "cell_type": "markdown",
   "id": "3b064ed5-31e9-4720-a1ef-c9e7a222f0bb",
   "metadata": {},
   "source": [
    "## Punto 4"
   ]
  },
  {
   "cell_type": "code",
   "execution_count": 43,
   "id": "0a96d029-40fe-40ff-a54f-3944aeb0f0a0",
   "metadata": {},
   "outputs": [],
   "source": [
    "def confronta_descrittori_vaccini(dataset, continente1, continente2):\n",
    "    df_continente1 = dataset[dataset['continent'] == continente1]\n",
    "    df_continente2 = dataset[dataset['continent'] == continente2]\n",
    "\n",
    "    descrittori_continente1 = df_continente1['new_vaccinations'].agg(['min', 'max', 'mean'])\n",
    "    descrittori_continente2 = df_continente2['new_vaccinations'].agg(['min', 'max', 'mean'])\n",
    "\n",
    "    totale_mondiale = dataset['new_vaccinations'].sum()\n",
    "    percentuale_continente1 = (df_continente1['new_vaccinations'].sum() / totale_mondiale) * 100\n",
    "    percentuale_continente2 = (df_continente2['new_vaccinations'].sum() / totale_mondiale) * 100\n",
    "\n",
    "    risultati_vaccinazioni = pd.DataFrame({\n",
    "        'Continente': [continente1, continente2],\n",
    "        'Minimo': [descrittori_continente1['min'], descrittori_continente2['min']],\n",
    "        'Massimo': [descrittori_continente1['max'], descrittori_continente2['max']],\n",
    "        'Media': [descrittori_continente1['mean'], descrittori_continente2['mean']],\n",
    "        'Percentuale rispetto al totale mondiale': [percentuale_continente1, percentuale_continente2]\n",
    "    })\n",
    "\n",
    "    return risultati_vaccinazioni"
   ]
  },
  {
   "cell_type": "code",
   "execution_count": 44,
   "id": "f039e1b9-0e14-4f71-bd47-f438dd19004c",
   "metadata": {},
   "outputs": [
    {
     "name": "stdout",
     "output_type": "stream",
     "text": [
      "  Continente  Minimo     Massimo          Media  \\\n",
      "0     Europe     0.0   2389472.0   59940.289233   \n",
      "1       Asia     0.0  24741000.0  509783.344320   \n",
      "\n",
      "   Percentuale rispetto al totale mondiale  \n",
      "0                                11.667095  \n",
      "1                                69.591868  \n"
     ]
    }
   ],
   "source": [
    "y = confronta_descrittori_vaccini(df, \"Europe\", \"Asia\",)\n",
    "print(y)"
   ]
  },
  {
   "cell_type": "markdown",
   "id": "ccdaf159-43cd-4b35-9a32-f074f222cf64",
   "metadata": {},
   "source": [
    "## Punto 5"
   ]
  },
  {
   "cell_type": "markdown",
   "id": "c29c3a40-161a-4742-9638-17df3e23eec1",
   "metadata": {},
   "source": [
    "Per elaborare una piccola analisi riassuntiva sulle statistiche di casi e vaccinazioni, che si concentri solo sulle differenze esistenti tra Europa, Sud America e Oceania, utilizzerò le funzioni e il df dei punti precedenti."
   ]
  },
  {
   "cell_type": "code",
   "execution_count": 48,
   "id": "22899d3b-3371-48c6-9ee5-de3fbd1a1398",
   "metadata": {},
   "outputs": [
    {
     "name": "stdout",
     "output_type": "stream",
     "text": [
      "      Continente  Minimo   Massimo        Media  \\\n",
      "0  South America     0.0  298408.0  3963.771866   \n",
      "1        Oceania     0.0  588813.0   475.400296   \n",
      "\n",
      "   Percentuale rispetto al totale mondiale  \n",
      "0                                 8.946579  \n",
      "1                                 1.841553  \n",
      "      Continente  Minimo    Massimo          Media  \\\n",
      "0  South America     1.0  3976605.0  150541.749688   \n",
      "1        Oceania     1.0   351226.0   56859.011442   \n",
      "\n",
      "   Percentuale rispetto al totale mondiale  \n",
      "0                                 7.774235  \n",
      "1                                 0.687285  \n"
     ]
    }
   ],
   "source": [
    "z = confronta_descrittori_casi(df, \"South America\", \"Oceania\")\n",
    "print(z)\n",
    "w = confronta_descrittori_vaccini(df, \"South America\", \"Oceania\",)\n",
    "print(w)"
   ]
  },
  {
   "cell_type": "markdown",
   "id": "14b589ce-6fc1-468e-ba31-d1d848c867c7",
   "metadata": {},
   "source": [
    "Confrontando i dati relativi ai casi di COVID-19 e alle vaccinazioni nei continenti Europa, Sud America e Oceania, emergono differenze significative.\n",
    "\n",
    "Nel continente Europa, si osserva che la situazione dei casi totali presenta un range ampio, con un numero minimo di casi pari a 0 e un massimo giornaliero di 500563 casi, mentre la media si attesta a 3953.65 casi. L'Europa rappresenta il 32.52% dei casi totali nel mondo, indicando una diffusione considerevole del virus nella regione. \n",
    "\n",
    "Riguardo alle vaccinazioni, si registra un minimo di 0 dosi amministrate e un massimo giornaliero di 2389472. La media delle vaccinazioni risulta essere di 59940.28. L'Europa contribuisce al 11.667% delle vaccinazioni totali nel mondo, indicando un impegno significativo nella campagna di immunizzazione.\n",
    "\n",
    "Nel continente Sud America, si osserva una situazione simile a quella europea per quanto riguarda i casi totali, con un numero minimo di casi pari a 0 e un massimo giornaliero di 298408. La media dei casi si attesta a 3963.77. La percentuale dei casi totali del Sud America rispetto al totale mondiale è del 8.94%. Riguardo alle vaccinazioni, si registra un minimo di zero dosi amministrate e un massimo giornaliero di 3,976,605.0. La media delle vaccinazioni risulta essere di 150541.74. Il Sud America contribuisce al 7.77% delle vaccinazioni totali nel mondo, evidenziando un impegno significativo nella campagna di immunizzazione simile a quello dell'Europa.\n",
    "\n",
    "Nell'Oceania, la situazione dei casi totali presenta un range che parte da zero, arrivando a un massimo giornaliero di 588813. La media dei casi si attesta a 475.40. L'Oceania rappresenta l'1.84% dei casi totali nel mondo, evidenziando una diffusione relativamente contenuta del virus nella regione. Per quanto riguarda le vaccinazioni, si registra un minimo di zero dosi amministrate e un massimo giornaliero di 351226. La media delle vaccinazioni risulta essere di 56859.01. L'Oceania contribuisce allo 0.68% delle vaccinazioni totali nel mondo, indicando un'impostazione diversa rispetto alle altre regioni, forse influenzata dalla minore diffusione del virus.\n",
    "\n",
    "Complessivamente, i dati evidenziano differenze significative nella diffusione del virus e nell'implementazione delle campagne di vaccinazione tra Europa, Sud America e Oceania. L'Europa e il Sud America si trovano in una situazione simile in termini di casi e vaccinazioni, con una maggiore diffusione del virus e un impegno significativo nella vaccinazione rispetto all'Oceania, dove i casi e le vaccinazioni sono relativamente meno diffusi."
   ]
  },
  {
   "cell_type": "code",
   "execution_count": null,
   "id": "f0615990-8cb2-4187-bcc8-64a1899d2a7e",
   "metadata": {},
   "outputs": [],
   "source": []
  }
 ],
 "metadata": {
  "kernelspec": {
   "display_name": "Python 3 (ipykernel)",
   "language": "python",
   "name": "python3"
  },
  "language_info": {
   "codemirror_mode": {
    "name": "ipython",
    "version": 3
   },
   "file_extension": ".py",
   "mimetype": "text/x-python",
   "name": "python",
   "nbconvert_exporter": "python",
   "pygments_lexer": "ipython3",
   "version": "3.10.9"
  }
 },
 "nbformat": 4,
 "nbformat_minor": 5
}
